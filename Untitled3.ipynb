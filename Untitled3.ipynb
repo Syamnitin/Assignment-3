{
  "nbformat": 4,
  "nbformat_minor": 0,
  "metadata": {
    "colab": {
      "provenance": []
    },
    "kernelspec": {
      "name": "python3",
      "display_name": "Python 3"
    },
    "language_info": {
      "name": "python"
    }
  },
  "cells": [
    {
      "cell_type": "code",
      "source": [
        "def preemptive_fcfs(processes):\n",
        "    num_processes = len(processes)\n",
        "    current_time = 0\n",
        "    waiting_times = [0] * num_processes\n",
        "    remaining_times = [process[2] for process in processes]\n",
        "\n",
        "    print(\"Preemptive FCFS Scheduling:\")\n",
        "    print(\"Process\\tWaiting Time\\tTurnaround Time\")\n",
        "\n",
        "    while any(remaining_times):\n",
        "        shortest_remaining_time = float(\"inf\")\n",
        "        shortest_index = -1\n",
        "\n",
        "        for i in range(num_processes):\n",
        "            if processes[i][1] <= current_time and remaining_times[i] < shortest_remaining_time and remaining_times[i] > 0:\n",
        "                shortest_remaining_time = remaining_times[i]\n",
        "                shortest_index = i\n",
        "\n",
        "        if shortest_index == -1:\n",
        "            current_time += 1\n",
        "        else:\n",
        "            remaining_times[shortest_index] -= 1\n",
        "            current_time += 1\n",
        "\n",
        "            if remaining_times[shortest_index] == 0:\n",
        "                waiting_times[shortest_index] = current_time - processes[shortest_index][1]\n",
        "\n",
        "    turnaround_times = [waiting_times[i] + process[2] for i, process in enumerate(processes)]\n",
        "    avg_waiting_time = sum(waiting_times) / num_processes\n",
        "    avg_turnaround_time = sum(turnaround_times) / num_processes\n",
        "\n",
        "    for i in range(num_processes):\n",
        "        print(f\"{processes[i][0]}\\t{waiting_times[i]}\\t\\t{turnaround_times[i]}\")\n",
        "\n",
        "    print(f\"Average Waiting Time: {avg_waiting_time}\")\n",
        "    print(f\"Average Turnaround Time: {avg_turnaround_time}\")\n",
        "\n",
        "if __name__ == \"__main__\":\n",
        "    processes = [\n",
        "        (\"P1\", 0, 24, 3),\n",
        "        (\"P2\", 4, 3, 1),\n",
        "        (\"P3\", 5, 3, 4),\n",
        "        (\"P4\", 6, 12, 2)\n",
        "    ]\n",
        "\n",
        "    preemptive_fcfs(processes)"
      ],
      "metadata": {
        "colab": {
          "base_uri": "https://localhost:8080/"
        },
        "id": "A8Bu60QEObeB",
        "outputId": "a7fb747d-ef4c-45b8-b8e7-9e96fecb32df"
      },
      "execution_count": 2,
      "outputs": [
        {
          "output_type": "stream",
          "name": "stdout",
          "text": [
            "Preemptive FCFS Scheduling:\n",
            "Process\tWaiting Time\tTurnaround Time\n",
            "P1\t42\t\t66\n",
            "P2\t3\t\t6\n",
            "P3\t5\t\t8\n",
            "P4\t16\t\t28\n",
            "Average Waiting Time: 16.5\n",
            "Average Turnaround Time: 27.0\n"
          ]
        }
      ]
    },
    {
      "cell_type": "code",
      "source": [
        "from collections import deque\n",
        "\n",
        "def preemptive_round_robin(processes, time_quantum):\n",
        "    num_processes = len(processes)\n",
        "    remaining_time = [process[2] for process in processes]\n",
        "    waiting_times = [0] * num_processes\n",
        "    turnaround_times = [0] * num_processes\n",
        "    current_time = 0\n",
        "    queue = deque()\n",
        "\n",
        "    while True:\n",
        "        for i in range(num_processes):\n",
        "            if processes[i][1] <= current_time and remaining_time[i] > 0:\n",
        "                if remaining_time[i] > time_quantum:\n",
        "                    current_time += time_quantum\n",
        "                    remaining_time[i] -= time_quantum\n",
        "                    queue.append(i)\n",
        "                else:\n",
        "                    current_time += remaining_time[i]\n",
        "                    waiting_times[i] = current_time - processes[i][1] - processes[i][2]\n",
        "                    remaining_time[i] = 0\n",
        "                    turnaround_times[i] = waiting_times[i] + processes[i][2]\n",
        "\n",
        "        all_done = True\n",
        "        for i in range(num_processes):\n",
        "            if remaining_time[i] > 0:\n",
        "                all_done = False\n",
        "                break\n",
        "\n",
        "        if all_done:\n",
        "            break\n",
        "\n",
        "        # Rotate the queue to handle other processes\n",
        "        queue.append(queue.popleft())\n",
        "\n",
        "    total_waiting_time = sum(waiting_times)\n",
        "    total_turnaround_time = sum(turnaround_times)\n",
        "    avg_waiting_time = total_waiting_time / num_processes\n",
        "    avg_turnaround_time = total_turnaround_time / num_processes\n",
        "\n",
        "    print(\"Preemptive Round Robin Scheduling:\")\n",
        "    print(\"Process\\tWaiting Time\\tTurnaround Time\")\n",
        "\n",
        "    for i in range(num_processes):\n",
        "        print(f\"{processes[i][0]}\\t{waiting_times[i]}\\t\\t{turnaround_times[i]}\")\n",
        "\n",
        "    print(f\"Average Waiting Time: {avg_waiting_time}\")\n",
        "    print(f\"Average Turnaround Time: {avg_turnaround_time}\")\n",
        "\n",
        "if __name__ == \"__main__\":\n",
        "    processes = [\n",
        "        (\"P1\", 0, 24, 3),\n",
        "        (\"P2\", 4, 3, 1),\n",
        "        (\"P3\", 5, 3, 4),\n",
        "        (\"P4\", 6, 12, 2)\n",
        "    ]\n",
        "    time_quantum = 4\n",
        "\n",
        "    preemptive_round_robin(processes, time_quantum)"
      ],
      "metadata": {
        "colab": {
          "base_uri": "https://localhost:8080/"
        },
        "id": "5jOr29ynQDHj",
        "outputId": "b7aa21af-eb2a-44c5-e50c-76570baaacc4"
      },
      "execution_count": 3,
      "outputs": [
        {
          "output_type": "stream",
          "name": "stdout",
          "text": [
            "Preemptive Round Robin Scheduling:\n",
            "Process\tWaiting Time\tTurnaround Time\n",
            "P1\t18\t\t42\n",
            "P2\t0\t\t3\n",
            "P3\t2\t\t5\n",
            "P4\t12\t\t24\n",
            "Average Waiting Time: 8.0\n",
            "Average Turnaround Time: 18.5\n"
          ]
        }
      ]
    },
    {
      "cell_type": "code",
      "source": [
        "def sjf_preemptive(processes):\n",
        "    num_processes = len(processes)\n",
        "    remaining_time = [process['burst_time'] for process in processes]\n",
        "    completion_time = [0] * num_processes\n",
        "    current_time = 0\n",
        "    completed_count = 0\n",
        "    waiting_times = [0] * num_processes\n",
        "    turnaround_times = [0] * num_processes\n",
        "\n",
        "    while completed_count < num_processes:\n",
        "        min_remaining_time = float('inf')\n",
        "        min_process_index = -1\n",
        "\n",
        "        for i in range(num_processes):\n",
        "            if (\n",
        "                processes[i]['arrival_time'] <= current_time\n",
        "                and remaining_time[i] < min_remaining_time\n",
        "                and remaining_time[i] > 0\n",
        "            ):\n",
        "                min_remaining_time = remaining_time[i]\n",
        "                min_process_index = i\n",
        "\n",
        "        if min_process_index == -1:\n",
        "            current_time += 1\n",
        "            continue\n",
        "\n",
        "        # Execute the selected process for 1 time unit\n",
        "        remaining_time[min_process_index] -= 1\n",
        "        current_time += 1\n",
        "\n",
        "        if remaining_time[min_process_index] == 0:\n",
        "            completed_count += 1\n",
        "            completion_time[min_process_index] = current_time\n",
        "            waiting_times[min_process_index] = completion_time[min_process_index] - processes[min_process_index]['burst_time'] - processes[min_process_index]['arrival_time']\n",
        "            turnaround_times[min_process_index] = completion_time[min_process_index] - processes[min_process_index]['arrival_time']\n",
        "\n",
        "    # Calculate the average waiting time and average turnaround time\n",
        "    avg_waiting_time = sum(waiting_times) / num_processes\n",
        "    avg_turnaround_time = sum(turnaround_times) / num_processes\n",
        "\n",
        "    return waiting_times, turnaround_times, avg_waiting_time, avg_turnaround_time\n",
        "\n",
        "if __name__ == \"__main__\":\n",
        "    processes = [\n",
        "        {\"name\": \"P1\", \"arrival_time\": 0, \"burst_time\": 24, \"priority\": 3},\n",
        "        {\"name\": \"P2\", \"arrival_time\": 4, \"burst_time\": 3, \"priority\": 1},\n",
        "        {\"name\": \"P3\", \"arrival_time\": 5, \"burst_time\": 3, \"priority\": 4},\n",
        "        {\"name\": \"P4\", \"arrival_time\": 6, \"burst_time\": 12, \"priority\": 2},\n",
        "    ]\n",
        "\n",
        "    waiting_times, turnaround_times, avg_waiting_time, avg_turnaround_time = sjf_preemptive(processes)\n",
        "\n",
        "    print(\"Process\\tWaiting Time\\tTurnaround Time\")\n",
        "    for i in range(len(processes)):\n",
        "        print(f\"{processes[i]['name']}\\t{waiting_times[i]}\\t\\t{turnaround_times[i]}\")\n",
        "\n",
        "    print(f\"Average Waiting Time: {avg_waiting_time}\")\n",
        "    print(f\"Average Turnaround Time: {avg_turnaround_time}\")\n",
        "\n"
      ],
      "metadata": {
        "colab": {
          "base_uri": "https://localhost:8080/"
        },
        "id": "AXK343l_QY11",
        "outputId": "9d5c80ba-7712-4a12-f150-d43bfdc0698a"
      },
      "execution_count": 4,
      "outputs": [
        {
          "output_type": "stream",
          "name": "stdout",
          "text": [
            "Process\tWaiting Time\tTurnaround Time\n",
            "P1\t18\t\t42\n",
            "P2\t0\t\t3\n",
            "P3\t2\t\t5\n",
            "P4\t4\t\t16\n",
            "Average Waiting Time: 6.0\n",
            "Average Turnaround Time: 16.5\n"
          ]
        }
      ]
    },
    {
      "cell_type": "code",
      "source": [
        "def PS(processes):\n",
        "    n = len(processes)\n",
        "    wt = [0] * n\n",
        "    tat = [0] * n\n",
        "    processes_sorted = sorted(processes, key=lambda x: (x['priority'], x['arrival_time']))\n",
        "    completion_time = processes_sorted[0]['arrival_time']\n",
        "\n",
        "    for i in range(n):\n",
        "        if completion_time < processes_sorted[i]['arrival_time']:\n",
        "            completion_time = processes_sorted[i]['arrival_time']\n",
        "        wt[processes.index(processes_sorted[i])] = completion_time - processes_sorted[i]['arrival_time']\n",
        "        completion_time += processes_sorted[i]['burst_time']\n",
        "        tat[processes.index(processes_sorted[i])] = wt[processes.index(processes_sorted[i])] + processes_sorted[i]['burst_time']\n",
        "\n",
        "    return wt, tat\n",
        "\n",
        "if __name__ == \"__main__\":\n",
        "    processes = [\n",
        "        {\"name\": \"P1\", \"arrival_time\": 0, \"burst_time\": 24, \"priority\": 3},\n",
        "    {\"name\": \"P2\", \"arrival_time\": 4, \"burst_time\": 3, \"priority\": 1},\n",
        "    {\"name\": \"P3\", \"arrival_time\": 5, \"burst_time\": 3, \"priority\": 4},\n",
        "    {\"name\": \"P4\", \"arrival_time\": 6, \"burst_time\": 12, \"priority\": 2}\n",
        "    ]\n",
        "\n",
        "\n",
        "    wt, tat = PS(processes)\n",
        "\n",
        "    print(\"Process\\tWaiting Time\\tTurnaround Time\")\n",
        "    for i in range(len(processes)):\n",
        "        print(f\"{processes[i]['name']}\\t{wt[i]}\\t\\t{tat[i]}\")\n",
        "\n",
        "    avg_waiting_time = sum(wt) / len(processes)\n",
        "    avg_turnaround_time = sum(tat) / len(processes)\n",
        "\n",
        "    print(f\"Average Waiting Time: {avg_waiting_time}\")\n",
        "    print(f\"Average Turnaround Time: {avg_turnaround_time}\")"
      ],
      "metadata": {
        "colab": {
          "base_uri": "https://localhost:8080/"
        },
        "id": "kYz6a3OnR5hZ",
        "outputId": "497b1eac-a9f5-4212-ff37-cfab731d7f8e"
      },
      "execution_count": 8,
      "outputs": [
        {
          "output_type": "stream",
          "name": "stdout",
          "text": [
            "Process\tWaiting Time\tTurnaround Time\n",
            "P1\t19\t\t43\n",
            "P2\t0\t\t3\n",
            "P3\t38\t\t41\n",
            "P4\t1\t\t13\n",
            "Average Waiting Time: 14.5\n",
            "Average Turnaround Time: 25.0\n"
          ]
        }
      ]
    }
  ]
}